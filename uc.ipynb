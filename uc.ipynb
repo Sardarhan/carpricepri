{
 "cells": [
  {
   "cell_type": "code",
   "execution_count": 1,
   "id": "d3795ff2",
   "metadata": {},
   "outputs": [],
   "source": [
    "import xgboost as xgb"
   ]
  },
  {
   "cell_type": "code",
   "execution_count": 2,
   "id": "09c546ac",
   "metadata": {},
   "outputs": [],
   "source": [
    "import sklearn"
   ]
  },
  {
   "cell_type": "code",
   "execution_count": 9,
   "id": "40216d98",
   "metadata": {},
   "outputs": [
    {
     "name": "stdout",
     "output_type": "stream",
     "text": [
      "Requirement already satisfied: scikit-learn==1.0.2 in c:\\anaconda\\lib\\site-packages (1.0.2)\n",
      "Requirement already satisfied: scipy>=1.1.0 in c:\\anaconda\\lib\\site-packages (from scikit-learn==1.0.2) (1.6.2)\n",
      "Requirement already satisfied: threadpoolctl>=2.0.0 in c:\\anaconda\\lib\\site-packages (from scikit-learn==1.0.2) (2.1.0)\n",
      "Requirement already satisfied: numpy>=1.14.6 in c:\\anaconda\\lib\\site-packages (from scikit-learn==1.0.2) (1.20.3)\n",
      "Requirement already satisfied: joblib>=0.11 in c:\\anaconda\\lib\\site-packages (from scikit-learn==1.0.2) (1.0.1)\n",
      "Note: you may need to restart the kernel to use updated packages.\n"
     ]
    }
   ],
   "source": [
    "#pip install -U scikit-learn==1.0.2"
   ]
  },
  {
   "cell_type": "code",
   "execution_count": 4,
   "id": "ef87fdc0",
   "metadata": {},
   "outputs": [
    {
     "name": "stdout",
     "output_type": "stream",
     "text": [
      "The scikit-learn version is 1.0.2.\n"
     ]
    }
   ],
   "source": [
    "print('The scikit-learn version is {}.'.format(sklearn.__version__))"
   ]
  },
  {
   "cell_type": "code",
   "execution_count": 5,
   "id": "90f6aec7",
   "metadata": {},
   "outputs": [],
   "source": [
    "import pandas as pd\n",
    "import numpy as np"
   ]
  },
  {
   "cell_type": "code",
   "execution_count": 6,
   "id": "38f178e3",
   "metadata": {},
   "outputs": [],
   "source": [
    "df = pd.read_csv('DS.csv')"
   ]
  },
  {
   "cell_type": "code",
   "execution_count": 7,
   "id": "2a263fae",
   "metadata": {},
   "outputs": [],
   "source": [
    "df['Selling_Price'] = df['Selling_Price'].str.replace(',','').astype(float)"
   ]
  },
  {
   "cell_type": "code",
   "execution_count": 8,
   "id": "f9c3bb7e",
   "metadata": {},
   "outputs": [],
   "source": [
    "df['Selling_Price'] = df['Selling_Price'].astype(int)"
   ]
  },
  {
   "cell_type": "code",
   "execution_count": 9,
   "id": "c19b388a",
   "metadata": {},
   "outputs": [],
   "source": [
    "df['Present_Price'] = df['Present_Price'].str.replace(',','').astype(float)"
   ]
  },
  {
   "cell_type": "code",
   "execution_count": 10,
   "id": "3ad09f6d",
   "metadata": {},
   "outputs": [],
   "source": [
    "df['Present_Price'] = df['Present_Price'].astype(int)"
   ]
  },
  {
   "cell_type": "code",
   "execution_count": 11,
   "id": "8a05c12d",
   "metadata": {},
   "outputs": [
    {
     "data": {
      "text/html": [
       "<div>\n",
       "<style scoped>\n",
       "    .dataframe tbody tr th:only-of-type {\n",
       "        vertical-align: middle;\n",
       "    }\n",
       "\n",
       "    .dataframe tbody tr th {\n",
       "        vertical-align: top;\n",
       "    }\n",
       "\n",
       "    .dataframe thead th {\n",
       "        text-align: right;\n",
       "    }\n",
       "</style>\n",
       "<table border=\"1\" class=\"dataframe\">\n",
       "  <thead>\n",
       "    <tr style=\"text-align: right;\">\n",
       "      <th></th>\n",
       "      <th>Car_Name</th>\n",
       "      <th>Manufacturer</th>\n",
       "      <th>Year</th>\n",
       "      <th>Kms_Driven</th>\n",
       "      <th>Fuel_Type</th>\n",
       "      <th>Seller_Type</th>\n",
       "      <th>Transmission</th>\n",
       "      <th>No_Of_Owners</th>\n",
       "      <th>Present_Price</th>\n",
       "      <th>Selling_Price</th>\n",
       "      <th>Insurance</th>\n",
       "    </tr>\n",
       "  </thead>\n",
       "  <tbody>\n",
       "    <tr>\n",
       "      <th>0</th>\n",
       "      <td>Maruti Suzuki Dzire Ldi</td>\n",
       "      <td>Maruti</td>\n",
       "      <td>2011</td>\n",
       "      <td>100000</td>\n",
       "      <td>Diesel</td>\n",
       "      <td>Individual</td>\n",
       "      <td>Manual</td>\n",
       "      <td>1</td>\n",
       "      <td>750000</td>\n",
       "      <td>310000</td>\n",
       "      <td>Yes</td>\n",
       "    </tr>\n",
       "    <tr>\n",
       "      <th>1</th>\n",
       "      <td>Maruti Suzuki Dzire Ldi</td>\n",
       "      <td>Maruti</td>\n",
       "      <td>2011</td>\n",
       "      <td>100000</td>\n",
       "      <td>Diesel</td>\n",
       "      <td>Dealer</td>\n",
       "      <td>Manual</td>\n",
       "      <td>1</td>\n",
       "      <td>750000</td>\n",
       "      <td>350000</td>\n",
       "      <td>Yes</td>\n",
       "    </tr>\n",
       "    <tr>\n",
       "      <th>2</th>\n",
       "      <td>Maruti Suzuki Dzire vdi</td>\n",
       "      <td>Maruti</td>\n",
       "      <td>2011</td>\n",
       "      <td>25000</td>\n",
       "      <td>Diesel</td>\n",
       "      <td>Individual</td>\n",
       "      <td>Manual</td>\n",
       "      <td>1</td>\n",
       "      <td>850000</td>\n",
       "      <td>350000</td>\n",
       "      <td>Yes</td>\n",
       "    </tr>\n",
       "    <tr>\n",
       "      <th>3</th>\n",
       "      <td>Maruti Suzuki Dzire Zdi</td>\n",
       "      <td>Maruti</td>\n",
       "      <td>2011</td>\n",
       "      <td>50000</td>\n",
       "      <td>Diesel</td>\n",
       "      <td>Dealer</td>\n",
       "      <td>Manual</td>\n",
       "      <td>2</td>\n",
       "      <td>900000</td>\n",
       "      <td>400000</td>\n",
       "      <td>Yes</td>\n",
       "    </tr>\n",
       "    <tr>\n",
       "      <th>4</th>\n",
       "      <td>Maruti Suzuki Dzire Ldi</td>\n",
       "      <td>Maruti</td>\n",
       "      <td>2011</td>\n",
       "      <td>100000</td>\n",
       "      <td>Diesel</td>\n",
       "      <td>Individual</td>\n",
       "      <td>Manual</td>\n",
       "      <td>1</td>\n",
       "      <td>750000</td>\n",
       "      <td>299000</td>\n",
       "      <td>No</td>\n",
       "    </tr>\n",
       "    <tr>\n",
       "      <th>...</th>\n",
       "      <td>...</td>\n",
       "      <td>...</td>\n",
       "      <td>...</td>\n",
       "      <td>...</td>\n",
       "      <td>...</td>\n",
       "      <td>...</td>\n",
       "      <td>...</td>\n",
       "      <td>...</td>\n",
       "      <td>...</td>\n",
       "      <td>...</td>\n",
       "      <td>...</td>\n",
       "    </tr>\n",
       "    <tr>\n",
       "      <th>1463</th>\n",
       "      <td>Toyota Fortuner 2.8 4X2</td>\n",
       "      <td>Toyota</td>\n",
       "      <td>2021</td>\n",
       "      <td>5698</td>\n",
       "      <td>Diesel</td>\n",
       "      <td>Individual</td>\n",
       "      <td>Automatic</td>\n",
       "      <td>1</td>\n",
       "      <td>4384000</td>\n",
       "      <td>3950000</td>\n",
       "      <td>Yes</td>\n",
       "    </tr>\n",
       "    <tr>\n",
       "      <th>1464</th>\n",
       "      <td>Toyota Fortuner 2.8 4X4</td>\n",
       "      <td>Toyota</td>\n",
       "      <td>2021</td>\n",
       "      <td>20452</td>\n",
       "      <td>Diesel</td>\n",
       "      <td>Individual</td>\n",
       "      <td>Manual</td>\n",
       "      <td>1</td>\n",
       "      <td>4522000</td>\n",
       "      <td>4300000</td>\n",
       "      <td>Yes</td>\n",
       "    </tr>\n",
       "    <tr>\n",
       "      <th>1465</th>\n",
       "      <td>Toyota Fortuner 2.8 4X4</td>\n",
       "      <td>Toyota</td>\n",
       "      <td>2021</td>\n",
       "      <td>4800</td>\n",
       "      <td>Diesel</td>\n",
       "      <td>Individual</td>\n",
       "      <td>Automatic</td>\n",
       "      <td>1</td>\n",
       "      <td>4792000</td>\n",
       "      <td>4500000</td>\n",
       "      <td>Yes</td>\n",
       "    </tr>\n",
       "    <tr>\n",
       "      <th>1466</th>\n",
       "      <td>Toyota Legender</td>\n",
       "      <td>Toyota</td>\n",
       "      <td>2021</td>\n",
       "      <td>9000</td>\n",
       "      <td>Diesel</td>\n",
       "      <td>Individual</td>\n",
       "      <td>Manual</td>\n",
       "      <td>1</td>\n",
       "      <td>4896000</td>\n",
       "      <td>4600000</td>\n",
       "      <td>Yes</td>\n",
       "    </tr>\n",
       "    <tr>\n",
       "      <th>1467</th>\n",
       "      <td>Toyota Legender 4X4</td>\n",
       "      <td>Toyota</td>\n",
       "      <td>2021</td>\n",
       "      <td>15478</td>\n",
       "      <td>Diesel</td>\n",
       "      <td>Individual</td>\n",
       "      <td>Automatic</td>\n",
       "      <td>1</td>\n",
       "      <td>5336000</td>\n",
       "      <td>5000000</td>\n",
       "      <td>Yes</td>\n",
       "    </tr>\n",
       "  </tbody>\n",
       "</table>\n",
       "<p>1468 rows × 11 columns</p>\n",
       "</div>"
      ],
      "text/plain": [
       "                      Car_Name Manufacturer  Year  Kms_Driven Fuel_Type  \\\n",
       "0      Maruti Suzuki Dzire Ldi       Maruti  2011      100000    Diesel   \n",
       "1      Maruti Suzuki Dzire Ldi       Maruti  2011      100000    Diesel   \n",
       "2      Maruti Suzuki Dzire vdi       Maruti  2011       25000    Diesel   \n",
       "3      Maruti Suzuki Dzire Zdi       Maruti  2011       50000    Diesel   \n",
       "4      Maruti Suzuki Dzire Ldi       Maruti  2011      100000    Diesel   \n",
       "...                        ...          ...   ...         ...       ...   \n",
       "1463   Toyota Fortuner 2.8 4X2       Toyota  2021        5698    Diesel   \n",
       "1464  Toyota Fortuner 2.8 4X4        Toyota  2021       20452    Diesel   \n",
       "1465   Toyota Fortuner 2.8 4X4       Toyota  2021        4800    Diesel   \n",
       "1466          Toyota Legender        Toyota  2021        9000    Diesel   \n",
       "1467       Toyota Legender 4X4       Toyota  2021       15478    Diesel   \n",
       "\n",
       "     Seller_Type Transmission  No_Of_Owners  Present_Price  Selling_Price  \\\n",
       "0     Individual       Manual             1         750000         310000   \n",
       "1         Dealer       Manual             1         750000         350000   \n",
       "2     Individual       Manual             1         850000         350000   \n",
       "3         Dealer       Manual             2         900000         400000   \n",
       "4     Individual       Manual             1         750000         299000   \n",
       "...          ...          ...           ...            ...            ...   \n",
       "1463  Individual    Automatic             1        4384000        3950000   \n",
       "1464  Individual       Manual             1        4522000        4300000   \n",
       "1465  Individual    Automatic             1        4792000        4500000   \n",
       "1466  Individual       Manual             1        4896000        4600000   \n",
       "1467  Individual    Automatic             1        5336000        5000000   \n",
       "\n",
       "     Insurance  \n",
       "0          Yes  \n",
       "1          Yes  \n",
       "2          Yes  \n",
       "3          Yes  \n",
       "4           No  \n",
       "...        ...  \n",
       "1463       Yes  \n",
       "1464       Yes  \n",
       "1465       Yes  \n",
       "1466       Yes  \n",
       "1467       Yes  \n",
       "\n",
       "[1468 rows x 11 columns]"
      ]
     },
     "execution_count": 11,
     "metadata": {},
     "output_type": "execute_result"
    }
   ],
   "source": [
    "df"
   ]
  },
  {
   "cell_type": "code",
   "execution_count": 12,
   "id": "f281b8b0",
   "metadata": {},
   "outputs": [],
   "source": [
    "import pandas as pd\n",
    "import numpy as np\n",
    "import matplotlib.pyplot as plt\n",
    "import matplotlib as plt\n",
    "%matplotlib inline\n",
    "plt.style.use('ggplot')\n",
    "from sklearn.preprocessing import OneHotEncoder\n",
    "from sklearn.compose import make_column_transformer\n",
    "from sklearn.pipeline import make_pipeline\n",
    "from sklearn.metrics import r2_score\n",
    "from sklearn.model_selection import train_test_split\n",
    "from sklearn.model_selection import cross_val_score\n",
    "from sklearn.model_selection import RepeatedKFold"
   ]
  },
  {
   "cell_type": "code",
   "execution_count": 13,
   "id": "dd91b958",
   "metadata": {},
   "outputs": [],
   "source": [
    "df_X=df.drop(['Selling_Price'],axis=1)\n",
    "df_y=df['Selling_Price']"
   ]
  },
  {
   "cell_type": "code",
   "execution_count": 14,
   "id": "64e774cf",
   "metadata": {},
   "outputs": [],
   "source": [
    "df_X_train,df_X_test,df_y_train,df_y_test=train_test_split(df_X,df_y,test_size=0.1,random_state=100)"
   ]
  },
  {
   "cell_type": "code",
   "execution_count": 15,
   "id": "99921e7f",
   "metadata": {},
   "outputs": [
    {
     "data": {
      "text/plain": [
       "OneHotEncoder()"
      ]
     },
     "execution_count": 15,
     "metadata": {},
     "output_type": "execute_result"
    }
   ],
   "source": [
    "ohe=OneHotEncoder()\n",
    "ohe.fit(df[['Car_Name','Manufacturer','Fuel_Type','Seller_Type','Transmission','Insurance']])"
   ]
  },
  {
   "cell_type": "code",
   "execution_count": 16,
   "id": "393782fb",
   "metadata": {},
   "outputs": [],
   "source": [
    "column_trans=make_column_transformer((OneHotEncoder(categories=ohe.categories_),['Car_Name','Manufacturer','Fuel_Type','Seller_Type','Transmission','Insurance']),\n",
    "                                    remainder='passthrough')"
   ]
  },
  {
   "cell_type": "code",
   "execution_count": 17,
   "id": "fe8ba598",
   "metadata": {},
   "outputs": [],
   "source": [
    "xgb_reg = xgb.XGBRegressor()"
   ]
  },
  {
   "cell_type": "code",
   "execution_count": 18,
   "id": "7a366579",
   "metadata": {},
   "outputs": [],
   "source": [
    "xg_pipe=make_pipeline(column_trans,xgb_reg)"
   ]
  },
  {
   "cell_type": "code",
   "execution_count": 19,
   "id": "1373b27d",
   "metadata": {},
   "outputs": [
    {
     "data": {
      "text/plain": [
       "Pipeline(steps=[('columntransformer',\n",
       "                 ColumnTransformer(remainder='passthrough',\n",
       "                                   transformers=[('onehotencoder',\n",
       "                                                  OneHotEncoder(categories=[array(['Honda Accord 2.4', 'Honda Accord Elegance',\n",
       "       'Honda Accord V6 Inspire', 'Honda Amaze iDtec S',\n",
       "       'Honda Amaze iDtec VX', 'Honda Amaze iDtech SCVT',\n",
       "       'Honda Amaze iDtech SX', 'Honda Amaze iDtech VCVT',\n",
       "       'Honda Amaze iDtech VX', 'Honda Amaze iVtec VX...\n",
       "                              gamma=0, gpu_id=-1, grow_policy='depthwise',\n",
       "                              importance_type=None, interaction_constraints='',\n",
       "                              learning_rate=0.300000012, max_bin=256,\n",
       "                              max_cat_to_onehot=4, max_delta_step=0,\n",
       "                              max_depth=6, max_leaves=0, min_child_weight=1,\n",
       "                              missing=nan, monotone_constraints='()',\n",
       "                              n_estimators=100, n_jobs=0, num_parallel_tree=1,\n",
       "                              predictor='auto', random_state=0, reg_alpha=0,\n",
       "                              reg_lambda=1, ...))])"
      ]
     },
     "execution_count": 19,
     "metadata": {},
     "output_type": "execute_result"
    }
   ],
   "source": [
    "xg_pipe.fit(df_X_train,df_y_train)"
   ]
  },
  {
   "cell_type": "code",
   "execution_count": 36,
   "id": "225b9d52",
   "metadata": {},
   "outputs": [],
   "source": [
    "y_predXG=xg_pipe.predict(df_X_test)"
   ]
  },
  {
   "cell_type": "code",
   "execution_count": 20,
   "id": "1a04bd83",
   "metadata": {},
   "outputs": [],
   "source": [
    "scores=[]\n",
    "for i in range(50):\n",
    "    df_X_train,df_X_test,df_y_train,df_y_test=train_test_split(df_X,df_y,test_size=0.1,random_state=i)\n",
    "    \n",
    "    pipe=make_pipeline(column_trans,xgb_reg)\n",
    "    pipe.fit(df_X_train,df_y_train)\n",
    "    y_pred=pipe.predict(df_X_test)\n",
    "    scores.append(r2_score(df_y_test,y_pred))"
   ]
  },
  {
   "cell_type": "code",
   "execution_count": 21,
   "id": "84f4d816",
   "metadata": {},
   "outputs": [
    {
     "data": {
      "text/plain": [
       "0.9878885086038214"
      ]
     },
     "execution_count": 21,
     "metadata": {},
     "output_type": "execute_result"
    }
   ],
   "source": [
    "df_X_train,df_X_test,df_y_train,df_y_test=train_test_split(df_X,df_y,test_size=0.1,random_state=7)\n",
    "    \n",
    "pipe=make_pipeline(column_trans,xgb_reg)\n",
    "pipe.fit(df_X_train,df_y_train)\n",
    "y_pred=pipe.predict(df_X_test)\n",
    "#print(scores.append(r2_score(df_y_test,y_pred)))\n",
    "r2_score(df_y_test,y_pred)"
   ]
  },
  {
   "cell_type": "code",
   "execution_count": 22,
   "id": "6bb4fb00",
   "metadata": {},
   "outputs": [
    {
     "data": {
      "text/plain": [
       "array([4292114.5], dtype=float32)"
      ]
     },
     "execution_count": 22,
     "metadata": {},
     "output_type": "execute_result"
    }
   ],
   "source": [
    "pipe.predict(pd.DataFrame(columns=['Car_Name','Manufacturer','Year','Kms_Driven','Fuel_Type','Seller_Type','Transmission','No_Of_Owners','Present_Price','Insurance'],\n",
    "                          \n",
    "                          data=np.array(['Toyota Fortuner 2.8 4X4','Toyota',2021,20452,'Diesel','Dealer','Manual',1,4522000,'Yes']).reshape(1,10)))\n"
   ]
  },
  {
   "cell_type": "code",
   "execution_count": 23,
   "id": "9f38e54b",
   "metadata": {},
   "outputs": [
    {
     "data": {
      "text/plain": [
       "7"
      ]
     },
     "execution_count": 23,
     "metadata": {},
     "output_type": "execute_result"
    }
   ],
   "source": [
    " np.argmax(scores)"
   ]
  },
  {
   "cell_type": "code",
   "execution_count": 24,
   "id": "5fca376e",
   "metadata": {},
   "outputs": [
    {
     "data": {
      "text/plain": [
       "array([267459.16], dtype=float32)"
      ]
     },
     "execution_count": 24,
     "metadata": {},
     "output_type": "execute_result"
    }
   ],
   "source": [
    "pipe.predict(pd.DataFrame(columns=['Car_Name','Manufacturer','Year','Kms_Driven','Fuel_Type','Seller_Type','Transmission','No_Of_Owners','Present_Price','Insurance'],\n",
    "                          \n",
    "                          data=np.array(['Maruti Suzuki Alto Lxi','Maruti',2015,80000,'Petrol','Individual','Automatic',1,380000,'Yes']).reshape(1,10)))\n"
   ]
  },
  {
   "cell_type": "code",
   "execution_count": 25,
   "id": "5b73e990",
   "metadata": {},
   "outputs": [
    {
     "data": {
      "text/plain": [
       "0.9878885086038214"
      ]
     },
     "execution_count": 25,
     "metadata": {},
     "output_type": "execute_result"
    }
   ],
   "source": [
    "scores[np.argmax(scores)]"
   ]
  },
  {
   "cell_type": "code",
   "execution_count": 26,
   "id": "6302c873",
   "metadata": {},
   "outputs": [],
   "source": [
    "import pickle"
   ]
  },
  {
   "cell_type": "code",
   "execution_count": 27,
   "id": "00de6423",
   "metadata": {},
   "outputs": [],
   "source": [
    "pickle.dump(pipe,open('dfXGBRegressorNew.pkl','wb'))"
   ]
  },
  {
   "cell_type": "code",
   "execution_count": 28,
   "id": "b5bfc4dd",
   "metadata": {},
   "outputs": [
    {
     "name": "stdout",
     "output_type": "stream",
     "text": [
      "[3991098.2]\n"
     ]
    }
   ],
   "source": [
    "op=pipe.predict(pd.DataFrame(columns=['Car_Name','Manufacturer','Year','Kms_Driven','Fuel_Type','Seller_Type','Transmission','No_Of_Owners','Present_Price','Insurance'],\n",
    "                          \n",
    "                          data=np.array(['Toyota Legender 4X4','Toyota',20,15000,'Diesel','Individual','Automatic',1,5336000,'Yes']).reshape(1,10)))\n",
    "op = abs(op)\n",
    "print(op)\n"
   ]
  },
  {
   "cell_type": "code",
   "execution_count": 49,
   "id": "a5900055",
   "metadata": {},
   "outputs": [
    {
     "data": {
      "text/html": [
       "<div>\n",
       "<style scoped>\n",
       "    .dataframe tbody tr th:only-of-type {\n",
       "        vertical-align: middle;\n",
       "    }\n",
       "\n",
       "    .dataframe tbody tr th {\n",
       "        vertical-align: top;\n",
       "    }\n",
       "\n",
       "    .dataframe thead th {\n",
       "        text-align: right;\n",
       "    }\n",
       "</style>\n",
       "<table border=\"1\" class=\"dataframe\">\n",
       "  <thead>\n",
       "    <tr style=\"text-align: right;\">\n",
       "      <th></th>\n",
       "      <th>Car_Name</th>\n",
       "      <th>Manufacturer</th>\n",
       "      <th>Year</th>\n",
       "      <th>Kms_Driven</th>\n",
       "      <th>Fuel_Type</th>\n",
       "      <th>Seller_Type</th>\n",
       "      <th>Transmission</th>\n",
       "      <th>No_Of_Owners</th>\n",
       "      <th>Present_Price</th>\n",
       "      <th>Selling_Price</th>\n",
       "      <th>Insurance</th>\n",
       "    </tr>\n",
       "  </thead>\n",
       "  <tbody>\n",
       "    <tr>\n",
       "      <th>0</th>\n",
       "      <td>Maruti Suzuki Dzire Ldi</td>\n",
       "      <td>Maruti</td>\n",
       "      <td>2011</td>\n",
       "      <td>100000</td>\n",
       "      <td>Diesel</td>\n",
       "      <td>Individual</td>\n",
       "      <td>Manual</td>\n",
       "      <td>1</td>\n",
       "      <td>750000</td>\n",
       "      <td>310000</td>\n",
       "      <td>Yes</td>\n",
       "    </tr>\n",
       "    <tr>\n",
       "      <th>1</th>\n",
       "      <td>Maruti Suzuki Dzire Ldi</td>\n",
       "      <td>Maruti</td>\n",
       "      <td>2011</td>\n",
       "      <td>100000</td>\n",
       "      <td>Diesel</td>\n",
       "      <td>Dealer</td>\n",
       "      <td>Manual</td>\n",
       "      <td>1</td>\n",
       "      <td>750000</td>\n",
       "      <td>350000</td>\n",
       "      <td>Yes</td>\n",
       "    </tr>\n",
       "    <tr>\n",
       "      <th>2</th>\n",
       "      <td>Maruti Suzuki Dzire vdi</td>\n",
       "      <td>Maruti</td>\n",
       "      <td>2011</td>\n",
       "      <td>25000</td>\n",
       "      <td>Diesel</td>\n",
       "      <td>Individual</td>\n",
       "      <td>Manual</td>\n",
       "      <td>1</td>\n",
       "      <td>850000</td>\n",
       "      <td>350000</td>\n",
       "      <td>Yes</td>\n",
       "    </tr>\n",
       "    <tr>\n",
       "      <th>3</th>\n",
       "      <td>Maruti Suzuki Dzire Zdi</td>\n",
       "      <td>Maruti</td>\n",
       "      <td>2011</td>\n",
       "      <td>50000</td>\n",
       "      <td>Diesel</td>\n",
       "      <td>Dealer</td>\n",
       "      <td>Manual</td>\n",
       "      <td>2</td>\n",
       "      <td>900000</td>\n",
       "      <td>400000</td>\n",
       "      <td>Yes</td>\n",
       "    </tr>\n",
       "    <tr>\n",
       "      <th>4</th>\n",
       "      <td>Maruti Suzuki Dzire Ldi</td>\n",
       "      <td>Maruti</td>\n",
       "      <td>2011</td>\n",
       "      <td>100000</td>\n",
       "      <td>Diesel</td>\n",
       "      <td>Individual</td>\n",
       "      <td>Manual</td>\n",
       "      <td>1</td>\n",
       "      <td>750000</td>\n",
       "      <td>299000</td>\n",
       "      <td>No</td>\n",
       "    </tr>\n",
       "  </tbody>\n",
       "</table>\n",
       "</div>"
      ],
      "text/plain": [
       "                  Car_Name Manufacturer  Year  Kms_Driven Fuel_Type  \\\n",
       "0  Maruti Suzuki Dzire Ldi       Maruti  2011      100000    Diesel   \n",
       "1  Maruti Suzuki Dzire Ldi       Maruti  2011      100000    Diesel   \n",
       "2  Maruti Suzuki Dzire vdi       Maruti  2011       25000    Diesel   \n",
       "3  Maruti Suzuki Dzire Zdi       Maruti  2011       50000    Diesel   \n",
       "4  Maruti Suzuki Dzire Ldi       Maruti  2011      100000    Diesel   \n",
       "\n",
       "  Seller_Type Transmission  No_Of_Owners  Present_Price  Selling_Price  \\\n",
       "0  Individual       Manual             1         750000         310000   \n",
       "1      Dealer       Manual             1         750000         350000   \n",
       "2  Individual       Manual             1         850000         350000   \n",
       "3      Dealer       Manual             2         900000         400000   \n",
       "4  Individual       Manual             1         750000         299000   \n",
       "\n",
       "  Insurance  \n",
       "0       Yes  \n",
       "1       Yes  \n",
       "2       Yes  \n",
       "3       Yes  \n",
       "4        No  "
      ]
     },
     "execution_count": 49,
     "metadata": {},
     "output_type": "execute_result"
    }
   ],
   "source": [
    "df.head()"
   ]
  },
  {
   "cell_type": "code",
   "execution_count": 51,
   "id": "c7de04c7",
   "metadata": {},
   "outputs": [
    {
     "name": "stdout",
     "output_type": "stream",
     "text": [
      "[310311.8]\n"
     ]
    }
   ],
   "source": [
    "op=pipe.predict(pd.DataFrame(columns=['Car_Name','Manufacturer','Year','Kms_Driven','Fuel_Type','Seller_Type','Transmission','No_Of_Owners','Present_Price','Insurance'],\n",
    "                          \n",
    "                          data=np.array(['Maruti Suzuki Dzire Ldi','Maruti',2011,100000,'Diesel','Individual','Manual',1,750000,'No']).reshape(1,10)))\n",
    "op = abs(op)\n",
    "print(op)\n"
   ]
  },
  {
   "cell_type": "code",
   "execution_count": 37,
   "id": "3f056ae4",
   "metadata": {},
   "outputs": [
    {
     "data": {
      "text/plain": [
       "0.8079084422802794"
      ]
     },
     "execution_count": 37,
     "metadata": {},
     "output_type": "execute_result"
    }
   ],
   "source": [
    "r2_score(df_y_test,y_predXG)"
   ]
  },
  {
   "cell_type": "code",
   "execution_count": 28,
   "id": "6bbd6adf",
   "metadata": {},
   "outputs": [],
   "source": [
    "def objective(trial,data=df_X,target=df_y):\n",
    "    df_X_train,df_X_test,df_y_train,df_y_test=train_test_split(df_X,df_y,test_size=0.1,random_state=100)\n",
    "    params = {\n",
    "        'tree_method':'gpu_hist',\n",
    "        'lambda':trial.suggest_loguniform('lambda',1e-4,10.0),\n",
    "        'alpha':trial.suggest_loguniform('alpha',1e-4,10.0),\n",
    "        'colsample_bytree':trial.suggest_categorical('colsample_bytree',[0.1,0.2,0.3,.5,.6,.7,.8,.9,1]),\n",
    "        'subsample':trial.suggest_categorical('subsample',[0.1,0.2,0.3,.5,.6,.7,.8,.9,1]),\n",
    "        'learning_rate':trial.suggest_categorical('learning_rate',[0.00001,0.0003,0.008,0.02,0.01,1,10]),\n",
    "        'n_estimators':30000,\n",
    "        'max_depth':trial.suggest_categorical('max_depth',[3,4,5,6,7,8,9,10,11,12]),\n",
    "        'random_state':trial.suggest_categorical('random_state',[10,20,30,40,50,60,70,80,90,1510,3250]),\n",
    "        'min_child_weight':trial.suggest_int('min_child_weight',1,2000),\n",
    "        'verbosity':3\n",
    "    }\n",
    "    xgb_reg_model=xgb.XGBRegressor(**params)\n",
    "    xgb_pipe=make_pipeline(column_trans,xgb_reg_model)\n",
    "    xgb_pipe.fit(df_X_train,df_y_train)\n",
    "    xgb_pred=xgb_pipe.predict(df_X_test)\n",
    "    r2_score(df_y_test,xgb_pred)\n",
    "    "
   ]
  },
  {
   "cell_type": "code",
   "execution_count": 20,
   "id": "c9259c35",
   "metadata": {},
   "outputs": [],
   "source": [
    "#import optuna"
   ]
  },
  {
   "cell_type": "code",
   "execution_count": 21,
   "id": "01fe14b8",
   "metadata": {},
   "outputs": [
    {
     "ename": "NameError",
     "evalue": "name 'optuna' is not defined",
     "output_type": "error",
     "traceback": [
      "\u001b[1;31m---------------------------------------------------------------------------\u001b[0m",
      "\u001b[1;31mNameError\u001b[0m                                 Traceback (most recent call last)",
      "\u001b[1;32m<ipython-input-21-36252dc42cb0>\u001b[0m in \u001b[0;36m<module>\u001b[1;34m\u001b[0m\n\u001b[1;32m----> 1\u001b[1;33m \u001b[0mfind_param\u001b[0m\u001b[1;33m=\u001b[0m\u001b[0moptuna\u001b[0m\u001b[1;33m.\u001b[0m\u001b[0mcreate_study\u001b[0m\u001b[1;33m(\u001b[0m\u001b[0mdirection\u001b[0m\u001b[1;33m=\u001b[0m\u001b[1;34m'minimize'\u001b[0m\u001b[1;33m)\u001b[0m\u001b[1;33m\u001b[0m\u001b[1;33m\u001b[0m\u001b[0m\n\u001b[0m\u001b[0;32m      2\u001b[0m \u001b[0mfind_param\u001b[0m\u001b[1;33m.\u001b[0m\u001b[0moptimize\u001b[0m\u001b[1;33m(\u001b[0m\u001b[0mobjective\u001b[0m\u001b[1;33m,\u001b[0m\u001b[0mn_trials\u001b[0m\u001b[1;33m=\u001b[0m\u001b[1;36m10\u001b[0m\u001b[1;33m)\u001b[0m\u001b[1;33m\u001b[0m\u001b[1;33m\u001b[0m\u001b[0m\n\u001b[0;32m      3\u001b[0m \u001b[0mfind_param\u001b[0m\u001b[1;33m.\u001b[0m\u001b[0mbest_trial\u001b[0m\u001b[1;33m.\u001b[0m\u001b[0mparams\u001b[0m\u001b[1;33m\u001b[0m\u001b[1;33m\u001b[0m\u001b[0m\n",
      "\u001b[1;31mNameError\u001b[0m: name 'optuna' is not defined"
     ]
    }
   ],
   "source": [
    "find_param=optuna.create_study(direction='minimize')\n",
    "find_param.optimize(objective,n_trials=10)\n",
    "find_param.best_trial.params"
   ]
  },
  {
   "cell_type": "code",
   "execution_count": null,
   "id": "8ad75469",
   "metadata": {},
   "outputs": [],
   "source": []
  }
 ],
 "metadata": {
  "kernelspec": {
   "display_name": "Python 3",
   "language": "python",
   "name": "python3"
  },
  "language_info": {
   "codemirror_mode": {
    "name": "ipython",
    "version": 3
   },
   "file_extension": ".py",
   "mimetype": "text/x-python",
   "name": "python",
   "nbconvert_exporter": "python",
   "pygments_lexer": "ipython3",
   "version": "3.8.8"
  }
 },
 "nbformat": 4,
 "nbformat_minor": 5
}
